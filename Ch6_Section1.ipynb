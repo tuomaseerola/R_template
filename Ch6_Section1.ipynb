{
  "nbformat": 4,
  "nbformat_minor": 0,
  "metadata": {
    "colab": {
      "name": "Ch6_Section1.ipynb",
      "private_outputs": true,
      "provenance": [],
      "collapsed_sections": [],
      "authorship_tag": "ABX9TyOr8L4zLHL1AINpGXlcKZaA",
      "include_colab_link": true
    },
    "kernelspec": {
      "name": "ir",
      "display_name": "R"
    },
    "language_info": {
      "name": "R"
    }
  },
  "cells": [
    {
      "cell_type": "markdown",
      "metadata": {
        "id": "view-in-github",
        "colab_type": "text"
      },
      "source": [
        "<a href=\"https://colab.research.google.com/github/tuomaseerola/R_template/blob/main/Ch6_Section1.ipynb\" target=\"_parent\"><img src=\"https://colab.research.google.com/assets/colab-badge.svg\" alt=\"Open In Colab\"/></a>"
      ]
    },
    {
      "cell_type": "markdown",
      "source": [
        "Testing possibilities for R analyses here. January 2020"
      ],
      "metadata": {
        "id": "8fmXKoyL5cXp"
      }
    },
    {
      "cell_type": "code",
      "execution_count": null,
      "metadata": {
        "id": "v3YQOq0H4smC"
      },
      "outputs": [],
      "source": [
        "install.packages(\"cowplot\", quiet = TRUE)\n",
        "install.packages(\"Hmisc\", quiet = TRUE)\n",
        "\n",
        "suppressPackageStartupMessages({\n",
        "    library(ggplot2)\n",
        "    library(tidyverse)\n",
        "    library(cowplot)\n",
        "    library(Hmisc)\n",
        "})"
      ]
    },
    {
      "cell_type": "code",
      "source": [
        "devtools::install_github(\"tuomaseerola/MusicScienceData\",quiet = TRUE)\n",
        "library(MusicScienceData)\n",
        "sadness <- MusicScienceData::sadness\n",
        "head(sadness[,1:8])"
      ],
      "metadata": {
        "id": "caHOt2385ypw"
      },
      "execution_count": null,
      "outputs": []
    },
    {
      "cell_type": "markdown",
      "source": [
        "## Ch6.1_01\n"
      ],
      "metadata": {
        "id": "JNtFyx5X61fk"
      }
    },
    {
      "cell_type": "code",
      "source": [
        "g1 <- sadness %>% \n",
        "  drop_na(ASM20) %>%   # drop missing values \n",
        "  ggplot(aes(x = ASM20))+\n",
        "  geom_histogram(bins=7,fill=\"grey50\", colour='black')+\n",
        "  scale_x_continuous(breaks = seq(1,7,by=1))+ \n",
        "  ggtitle(sadness_ASM_labels[20])+\n",
        "  ylab('Count')+\n",
        "  xlab('1 = Strongly disagree, 7 = Strongly agree')+\n",
        "  theme_bw()\n",
        "g1"
      ],
      "metadata": {
        "id": "X7TL8GK_62o8"
      },
      "execution_count": null,
      "outputs": []
    },
    {
      "cell_type": "markdown",
      "source": [
        "## Ch6.1_02"
      ],
      "metadata": {
        "id": "jHi_1YF47ALh"
      }
    },
    {
      "cell_type": "code",
      "source": [
        "g2 <- MusicScienceData::sadness %>% \n",
        "  drop_na(ASM25) %>%   # drop missing values \n",
        "  ggplot(aes(y = ASM25))+\n",
        "  geom_boxplot(fill='gray50')+\n",
        "  scale_y_continuous(breaks = seq(1,7,by=1),expand=c(0.02,0.02))+\n",
        "  scale_x_discrete()+\n",
        "  coord_flip()+\n",
        "  annotate(\"segment\",x=.55,xend=0.55,y=5,yend=7,arrow = arrow(ends = \"both\",length = unit(.2,\"cm\")),colour='gray30')+\n",
        "  annotate(\"text\",x=.8,y=6,label='Interquartile range (IQR)',hjust=0.5,colour=\"gray30\")+\n",
        "  annotate(\"text\",x=.8,y=2,label='Minimum (Q1 - 1.5*IQR)',hjust=0,colour=\"gray30\")+\n",
        "  annotate(\"text\",x=-.65,y=6,label='Median',hjust=0.5,colour=\"gray30\")+\n",
        "  annotate(\"text\",x=-.65,y=5,label='Q1',hjust=0.5,colour=\"gray30\")+\n",
        "  annotate(\"text\",x=-.95,y=5,label='(25th percentile)',hjust=0.5,size=3,colour=\"gray30\")+\n",
        "  annotate(\"text\",x=-.65,y=7,label='Q3',hjust=0.5,colour=\"gray30\")+\n",
        "  annotate(\"text\",x=-.95,y=7,label='(75th percentile)',hjust=1.0,size=3,colour=\"gray30\")+\n",
        "  annotate(\"segment\",x=.70,xend=0.10,y=2,yend=2,arrow = arrow(length = unit(.2,\"cm\")),colour='gray30')+\n",
        "  annotate(\"text\",x=.8,y=1,label='Outliers',hjust=0,colour=\"gray30\")+\n",
        "  annotate(\"segment\",x=.70,xend=0.10,y=1,yend=1,arrow = arrow(length = unit(.2,\"cm\")),colour='gray30')+\n",
        "  ggtitle(MusicScienceData::sadness_ASM_labels[25])+\n",
        "  ylab('1 = Strongly disagree, 7 = Strongly agree')+\n",
        "  xlab('')+\n",
        "  theme_bw()+\n",
        "  theme(plot.title = element_text(size=10))\n",
        "print(g2)"
      ],
      "metadata": {
        "id": "2GMKoEDV7Emt"
      },
      "execution_count": null,
      "outputs": []
    },
    {
      "cell_type": "markdown",
      "source": [
        "## Ch6.1_03"
      ],
      "metadata": {
        "id": "0GAEn66t7eDv"
      }
    },
    {
      "cell_type": "code",
      "source": [
        "d <- MusicScienceData::priming\n",
        "g1<-ggplot(d,aes(x=RT))+\n",
        "  geom_histogram(binwidth=100,colour='grey50',fill='white')+\n",
        "  ggtitle('Bin width 100')+\n",
        "  ylab('Count')+\n",
        "  xlab('Reaction time (ms)')+\n",
        "  scale_x_continuous(breaks=seq(0,2000,by=400))+\n",
        "  theme_bw()\n",
        "g2<-ggplot(d,aes(x=RT))+\n",
        "  geom_histogram(binwidth=10,colour='grey50',fill='white')+\n",
        "  ggtitle('Bin width 10')+\n",
        "  ylab('Count')+\n",
        "  xlab('Reaction time (ms)')+\n",
        "  scale_x_continuous(breaks=seq(0,2000,by=400))+\n",
        "  theme_bw()\n",
        "g3<-ggplot(dplyr::filter(d,RT>200 & RT<1500),aes(x=RT))+\n",
        "  geom_histogram(binwidth=10,colour='grey50',fill='white')+\n",
        "  ggtitle('Bin width 10 with trimming')+\n",
        "  ylab('Count')+\n",
        "  xlab('Reaction time (ms)')+\n",
        "  scale_x_continuous(breaks=seq(200,1500,by=200),limits = c(0,2000))+\n",
        "  geom_vline(xintercept = c(200,1500),linetype='dashed')+\n",
        "  theme_bw()\n",
        "g4<-ggplot(dplyr::filter(d,RT>200 & RT<1500),aes(x=RT))+\n",
        "  geom_histogram(binwidth=10,colour='grey50',fill='white')+\n",
        "  geom_density(aes(y=10 * ..count..),alpha=0.5,colour='black',fill=NA)+\n",
        "  ggtitle('Bin width 10 density with trimming')+\n",
        "  ylab('Count')+\n",
        "  xlab('Reaction time (ms)')+\n",
        "  scale_x_continuous(breaks=seq(200,1500,by=200))+\n",
        "  theme_bw()\n",
        "G<-cowplot::plot_grid(g1, g2, g3, g4, nrow = 2)\n",
        "print(G)"
      ],
      "metadata": {
        "id": "g10QPI6s7fyf"
      },
      "execution_count": null,
      "outputs": []
    },
    {
      "cell_type": "markdown",
      "source": [
        "## Ch6.1_04"
      ],
      "metadata": {
        "id": "upzoFP348oHx"
      }
    },
    {
      "cell_type": "code",
      "source": [
        "g2 <- sadness %>% \n",
        "  drop_na(ASM23) %>%   # drop missing values \n",
        "  ggplot(aes(y = ASM23))+\n",
        "  geom_boxplot(fill='gray50')+\n",
        "  scale_y_continuous(breaks = seq(1,7,by=1))+\n",
        "  scale_x_discrete()+\n",
        "  ggtitle(sadness_ASM_labels[23])+\n",
        "  ylab('1 = Strongly disagree, 7 = Strongly agree')+\n",
        "  theme_bw()\n",
        "print(g2)"
      ],
      "metadata": {
        "id": "Fbt0Kcbj8qkk"
      },
      "execution_count": null,
      "outputs": []
    },
    {
      "cell_type": "markdown",
      "source": [
        "### 04_03_panel_of_histograms.R"
      ],
      "metadata": {
        "id": "5_PaDTos81zj"
      }
    },
    {
      "cell_type": "code",
      "source": [
        "g1 <- MusicScienceData::sadness %>% \n",
        "  drop_na(ASM1) %>%   # drop missing values \n",
        "  ggplot(aes(x= ASM1,color=gender))+\n",
        "  geom_density(adjust=1.25)+\n",
        "  scale_color_grey(name='Gender')+\n",
        "  scale_x_continuous(breaks = seq(1,7,by=1))+\n",
        "  ggtitle(sadness_ASM_labels[1])+\n",
        "  ylab('Density')+\n",
        "  theme_bw()\n",
        "\n",
        "tmp <- as_tibble(MusicScienceData::sadness)  \n",
        "tmp2 <- tmp[,c(3,7:10)]\n",
        "dfl <- pivot_longer(tmp2,cols = c(2:5))\n",
        "\n",
        "g2 <- dfl %>% \n",
        "  drop_na(value) %>%   # drop missing values \n",
        "  ggplot(aes(x=name,y = value,fill=gender))+\n",
        "  geom_boxplot(outlier.shape =\"\")+\n",
        "  scale_y_continuous(breaks = seq(1,7,by=1))+\n",
        "  scale_x_discrete()+\n",
        "  scale_fill_grey(start = .75, end=.25, name=\"Gender\")+\n",
        "  ggtitle('ASM items 1 to 4')+\n",
        "  ylab('Disagree - Agree')+\n",
        "  xlab('Item')+\n",
        "  theme_bw()+\n",
        "  theme(legend.justification=c(1,0), legend.position=c(0.95,0.70))\n",
        "\n",
        "g3 <- MusicScienceData::sadness %>% \n",
        "  drop_na(ASM12) %>%   # drop missing values \n",
        "  ggplot(aes(x=1,y = ASM12))+\n",
        "  geom_boxplot(fill='gray70')+\n",
        "  geom_jitter(alpha=0.13,colour='black', width = 0.33)+\n",
        "  scale_y_continuous(breaks = seq(1,7,by=1))+\n",
        "  scale_x_discrete()+  \n",
        "  ggtitle(sadness_ASM_labels[12])+\n",
        "  ylab('Disagree - Agree')+\n",
        "  xlab('ASM12')+\n",
        "  theme_bw()\n",
        "\n",
        "g4 <- MusicScienceData::sadness %>% \n",
        "  drop_na(ASM13) %>%   # drop missing values \n",
        "  ggplot(aes(x=1,y = ASM13))+\n",
        "  geom_violin(fill='grey70',adjust=1.2,alpha=0.50)+\n",
        "  scale_y_continuous(breaks = seq(1,7,by=1))+\n",
        "  scale_x_discrete()+  \n",
        "  stat_summary(fun = median, fun.min = median, fun.max = median,\n",
        "               geom = \"crossbar\", width = 0.9)+\n",
        "  stat_summary(fun = mean, fun.min = mean, fun.max = mean,\n",
        "               geom = \"crossbar\", width = 0.9,colour='gray50')+\n",
        "  ggtitle(sadness_ASM_labels[13])+\n",
        "  annotate(\"text\",x=1.6,y=mean(MusicScienceData::sadness$ASM13,na.rm = TRUE),label='Mean',hjust=0)+\n",
        "  annotate(\"text\",x=1.6,y=median(MusicScienceData::sadness$ASM13,na.rm = TRUE),label='Median',hjust=0)+\n",
        "  ylab('Disagree - Agree')+\n",
        "  xlab('ASM13')+\n",
        "  theme_bw()\n",
        "G2 <- plot_grid(g1,g2,g3,g4,labels = c(\"A\", \"B\", \"C\", \"D\"),ncol = 2, nrow = 2)\n",
        "G2\n"
      ],
      "metadata": {
        "id": "bl_uOmpi8374"
      },
      "execution_count": null,
      "outputs": []
    },
    {
      "cell_type": "markdown",
      "source": [
        "## 04_03_table_example.R"
      ],
      "metadata": {
        "id": "qi8bhgJU9nVK"
      }
    },
    {
      "cell_type": "code",
      "source": [
        "# 04_03_table_example.R\n",
        "table1<-MusicScienceData::sadness %>%\n",
        "  drop_na(ASM20) %>%   # drop missing values \n",
        "  group_by(age) %>%\n",
        "  summarise(n=n(),mean_cl_normal(ASM20))\n",
        "  colnames(table1)<-c('Age','N','M','95% CI LL','95% CI UL')\n",
        "\n",
        "knitr::kable(table1,digits = 2, format='simple',\n",
        "  caption = 'The means of the ASM question 20 across the age groups.')  "
      ],
      "metadata": {
        "id": "EMuj7ijk9pLG"
      },
      "execution_count": null,
      "outputs": []
    },
    {
      "cell_type": "markdown",
      "source": [
        "## 04_04_descriptives.R"
      ],
      "metadata": {
        "id": "yIjck56l-swp"
      }
    },
    {
      "cell_type": "code",
      "source": [
        "mean(MusicScienceData::sadness$ASM20,na.rm = TRUE) # Mean (ignore missing values)\n",
        "sd(MusicScienceData::sadness$ASM20,na.rm = TRUE)   # Standard Deviation"
      ],
      "metadata": {
        "id": "J4r6C_Tn-xy9"
      },
      "execution_count": null,
      "outputs": []
    },
    {
      "cell_type": "markdown",
      "source": [
        "## 04_05_bar_plot.R"
      ],
      "metadata": {
        "id": "yvvYFbRK-33f"
      }
    },
    {
      "cell_type": "code",
      "source": [
        "g3 <- sadness %>% \n",
        "  drop_na(ASM20) %>%   # drop missing values \n",
        "  group_by(gender) %>%\n",
        "  summarise(mean= mean(ASM20),ci = mean_cl_normal(ASM20)) %>% \n",
        "  ggplot(aes(x = gender,y = mean,fill=gender))+\n",
        "  geom_col(colour='black',show.legend = FALSE)+\n",
        "  geom_errorbar(aes(ymin=ci$ymin,ymax=ci$ymax),width=0.5)+\n",
        "  scale_y_continuous(breaks = seq(1,7,by=1), expand = c(0,0))+\n",
        "  scale_fill_grey(start=.25,end=.75)+\n",
        "  coord_cartesian(ylim = c(1, 7)) +\n",
        "  ggtitle(sadness_ASM_labels[20])+\n",
        "  ylab('Mean ± 95% CI')+\n",
        "  xlab('Gender')+\n",
        "  theme_bw()\n",
        "print(g3)"
      ],
      "metadata": {
        "id": "NE9vfN9K-61l"
      },
      "execution_count": null,
      "outputs": []
    },
    {
      "cell_type": "markdown",
      "source": [
        "## 04_06_barplot2.R"
      ],
      "metadata": {
        "id": "gxxjKoLQ_Iqq"
      }
    },
    {
      "cell_type": "code",
      "source": [
        "tmp<-MusicScienceData::sadness\n",
        "tmp$expert<-factor(tmp$expert)\n",
        "tmp$expert<-factor(tmp$expert,levels=c('Amat.','MusicL','NM','Pro','Semi-pro'),labels=c('Nonmusician','Music-lover','Amateur musician','Semi-pro musician','Professional musician'))\n",
        "g2<-tmp %>% \n",
        "  drop_na(ASM6) %>%   # drop missing values \n",
        "  ggplot(aes(x = expert, y = ASM6)) +\n",
        "  stat_summary(fun = \"mean\", geom = \"bar\", alpha = .7) +\n",
        "  stat_summary(fun = \"mean\", geom = \"point\", \n",
        "               size = 1) +\n",
        "  stat_summary(fun.data = \"mean_cl_normal\",\n",
        "               geom = \"errorbar\",\n",
        "               width = .5) +\n",
        "  ylab('Mean Rating ± 95% CI')+\n",
        "  ggtitle(MusicScienceData::sadness_ASM_labels[6])+\n",
        "  scale_x_discrete(labels=function(x){sub(\"\\\\s\", \"\\n\", x)},name=\"Musical Expertise\")+\n",
        "  coord_cartesian(ylim = c(1, 7)) +\n",
        "  scale_y_continuous(breaks = 1:7, expand = c(0,0))+\n",
        "  theme_bw()\n",
        "g2"
      ],
      "metadata": {
        "id": "4bQeK2Xp_MgE"
      },
      "execution_count": null,
      "outputs": []
    },
    {
      "cell_type": "markdown",
      "source": [
        "## 04_06_XXX.R"
      ],
      "metadata": {
        "id": "G8LMQmFs_UI9"
      }
    },
    {
      "cell_type": "code",
      "source": [
        "g4<-ggplot(soundtrack) +\n",
        "  aes(x = Valence, y = Tension, colour = TARGET_EMOTION,\n",
        "      label=Number,\n",
        "      shape= TARGET_FRAMEWORK) +\n",
        "  geom_point(size=4,alpha=0.80,show.legend=FALSE) +\n",
        "  coord_fixed(ratio = 1)+\n",
        "  geom_smooth(aes(shape = NULL,colour=NULL),method=\"lm\", \n",
        "              formula='y ~x',se=FALSE, fullrange=TRUE, \n",
        "              level=0.95, colour='grey50',\n",
        "              linetype='dashed',show.legend = FALSE)+\n",
        "  geom_text(show.legend=FALSE,color='white',size=1.7)+\n",
        "  scale_colour_grey(name='Emotion',start = .6,end = 0)+  \n",
        "  scale_shape(name='Framework')+  \n",
        "  scale_x_continuous(breaks=seq(1,9,by=2),limits=c(1,9))+\n",
        "  scale_y_continuous(breaks=seq(1,9,by=2),limits=c(1,9))+\n",
        "  theme_bw()\n",
        "print(g4)"
      ],
      "metadata": {
        "id": "eXmM0i2L_Xcq"
      },
      "execution_count": null,
      "outputs": []
    }
  ]
}
